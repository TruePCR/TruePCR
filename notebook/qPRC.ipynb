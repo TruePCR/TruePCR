{
 "cells": [
  {
   "cell_type": "markdown",
   "metadata": {},
   "source": [
    "qPRC workflow\n",
    "=============\n",
    "qPRC main workflow in a single, hopefully simple, notebook.\n",
    "\n",
    "Dependencies\n",
    "------------"
   ]
  },
  {
   "cell_type": "code",
   "execution_count": 1,
   "metadata": {
    "collapsed": false
   },
   "outputs": [],
   "source": [
    "# standard library modules\n",
    "import os\n",
    "\n",
    "\n",
    "# external modules\n",
    "import pandas as pd\n",
    "import numpy as np\n",
    "import matplotlib.pyplot as plt"
   ]
  },
  {
   "cell_type": "markdown",
   "metadata": {},
   "source": [
    "Global settings\n",
    "----------------"
   ]
  },
  {
   "cell_type": "code",
   "execution_count": 2,
   "metadata": {
    "collapsed": false
   },
   "outputs": [],
   "source": [
    "DATA_LOC = '../data/'"
   ]
  },
  {
   "cell_type": "markdown",
   "metadata": {},
   "source": [
    "Parsing the data\n",
    "-----------------"
   ]
  },
  {
   "cell_type": "code",
   "execution_count": 3,
   "metadata": {
    "collapsed": false
   },
   "outputs": [
    {
     "name": "stdout",
     "output_type": "stream",
     "text": [
      "Well,Dye Name,Reading 1,Reading 2,Reading 3,Reading 4,Reading 5,Reading 6,Reading 7,Reading 8,Reading 9,Reading 10,Reading 11,Reading 12,Reading 13,Reading 14,Reading 15,Reading 16,Reading 17,Reading 18,Reading 19,Reading 20,Reading 21,Reading 22,Reading 23,Reading 24,Reading 25,Reading 26,Reading 27,Reading 28,Reading 29,Reading 30,Reading 31,Reading 32,Reading 33,Reading 34,Reading 35,Reading 36,Reading 37,Reading 38,Reading 39,Reading 40,Reading 41,Reading 42,Reading 43,Reading 44,Reading 45,Reading 46,Reading 47,Reading 48,Reading 49,Reading 50,Reading 51,Reading 52,Reading 53,Reading 54,Reading 55,Reading 56,Reading 57,Reading 58,Reading 59,Reading 60,Reading 61,Reading 62,Reading 63,Reading 64,Reading 65,Reading 66,Reading 67,Reading 68,Reading 69,Reading 70,Reading 71,Reading 72,Reading 73,Reading 74,Reading 75,Reading 76,Reading 77,Reading 78,Reading 79,Reading 80,Reading 81,Reading 82,Reading 83,Reading 84,Reading 85,Reading 86,Reading 87,Reading 88,Reading 89,Reading 90,Reading 91,Reading 92,Reading 93,Reading 94,Reading 95,Reading 96,Reading 97,Reading 98,Reading 99,Reading 100,Reading 101,Reading 102,Reading 103,Reading 104,Reading 105,Reading 106,Reading 107,Reading 108,Reading 109,Reading 110,Reading 111,Reading 112,Reading 113,Reading 114,Reading 115,Reading 116,Reading 117,Reading 118,Reading 119,Reading 120,Reading 121,Reading 122,Reading 123,Reading 124,Reading 125,Reading 126,Reading 127,Reading 128,Reading 129,Reading 130,Reading 131\r\n",
      "15,ROX,50718.367188,51313.871094,51656.718750,51801.609375,51964.367188,52088.664063,52213.367188,52264.246094,52264.546875,52250.972656,52343.453125,52403.007813,52419.457031,52434.531250,52497.355469,52484.078125,52474.640625,52519.722656,52547.921875,52588.187500,52618.753906,52680.734375,52673.285156,52710.964844,52652.429688,52659.933594,52625.558594,52567.683594,52330.593750,51994.089844,51384.007813,50367.035156,48770.246094,46610.628906,44422.312500,42954.742188,42378.191406,42318.671875,42345.890625,42342.964844,47517.992188,47786.585938,47971.414063,48111.957031,48268.515625,48459.867188,48708.667969,48918.175781,49053.371094,49158.894531,49318.035156,49418.472656,49520.726563,49572.292969,49729.207031,49808.144531,49977.953125,50130.437500,50280.453125,50314.738281,50394.378906,50545.136719,50673.468750,50841.605469,50934.183594,50983.902344,51073.003906,51238.609375,51293.742188,51254.230469,51290.539063,51346.171875,51413.761719,51515.968750,51693.625000,51811.292969,51784.828125,51759.769531,51825.937500,51912.945313,51948.449219,52041.906250,52141.761719,52195.843750,52139.929688,52173.796875,52300.710938,52387.058594,52441.617188,52514.050781,52615.500000,52624.250000,52615.273438,52686.109375,52762.171875,52857.566406,52838.382813,52890.621094,52904.984375,53006.515625,53066.734375,53182.621094,53171.777344,53109.015625,53079.191406,53074.910156,53261.542969,53410.660156,53650.906250,53794.828125,54032.378906,54120.375000,54139.437500,53888.085938,53587.546875,53301.628906,53132.218750,52991.824219,52950.242188,52963.441406,52938.824219,52931.292969,52927.093750,52930.968750,52896.195313,52863.261719,52788.839844,52738.621094,52701.269531,52650.851563,52537.011719\r\n"
     ]
    }
   ],
   "source": [
    "filepath = os.path.join(DATA_LOC, 'raw_input.csv')\n",
    "! head -n 2 $filepath"
   ]
  },
  {
   "cell_type": "code",
   "execution_count": 4,
   "metadata": {
    "collapsed": false
   },
   "outputs": [
    {
     "data": {
      "text/html": [
       "<div>\n",
       "<table border=\"1\" class=\"dataframe\">\n",
       "  <thead>\n",
       "    <tr>\n",
       "      <th>Well</th>\n",
       "      <th colspan=\"2\" halign=\"left\">15</th>\n",
       "      <th colspan=\"2\" halign=\"left\">16</th>\n",
       "      <th colspan=\"2\" halign=\"left\">17</th>\n",
       "      <th colspan=\"2\" halign=\"left\">18</th>\n",
       "      <th colspan=\"2\" halign=\"left\">19</th>\n",
       "      <th>...</th>\n",
       "      <th colspan=\"2\" halign=\"left\">44</th>\n",
       "      <th colspan=\"2\" halign=\"left\">45</th>\n",
       "      <th colspan=\"2\" halign=\"left\">46</th>\n",
       "      <th colspan=\"2\" halign=\"left\">47</th>\n",
       "      <th colspan=\"2\" halign=\"left\">48</th>\n",
       "    </tr>\n",
       "    <tr>\n",
       "      <th>Dye Name</th>\n",
       "      <th>ROX</th>\n",
       "      <th>SYBR</th>\n",
       "      <th>ROX</th>\n",
       "      <th>SYBR</th>\n",
       "      <th>ROX</th>\n",
       "      <th>SYBR</th>\n",
       "      <th>ROX</th>\n",
       "      <th>SYBR</th>\n",
       "      <th>ROX</th>\n",
       "      <th>SYBR</th>\n",
       "      <th>...</th>\n",
       "      <th>ROX</th>\n",
       "      <th>SYBR</th>\n",
       "      <th>ROX</th>\n",
       "      <th>SYBR</th>\n",
       "      <th>ROX</th>\n",
       "      <th>SYBR</th>\n",
       "      <th>ROX</th>\n",
       "      <th>SYBR</th>\n",
       "      <th>ROX</th>\n",
       "      <th>SYBR</th>\n",
       "    </tr>\n",
       "    <tr>\n",
       "      <th>cycle</th>\n",
       "      <th></th>\n",
       "      <th></th>\n",
       "      <th></th>\n",
       "      <th></th>\n",
       "      <th></th>\n",
       "      <th></th>\n",
       "      <th></th>\n",
       "      <th></th>\n",
       "      <th></th>\n",
       "      <th></th>\n",
       "      <th></th>\n",
       "      <th></th>\n",
       "      <th></th>\n",
       "      <th></th>\n",
       "      <th></th>\n",
       "      <th></th>\n",
       "      <th></th>\n",
       "      <th></th>\n",
       "      <th></th>\n",
       "      <th></th>\n",
       "      <th></th>\n",
       "    </tr>\n",
       "  </thead>\n",
       "  <tbody>\n",
       "    <tr>\n",
       "      <th>1</th>\n",
       "      <td>50718.367188</td>\n",
       "      <td>5318.887207</td>\n",
       "      <td>57887.613281</td>\n",
       "      <td>33920.878906</td>\n",
       "      <td>53284.023438</td>\n",
       "      <td>30377.804688</td>\n",
       "      <td>49185.601563</td>\n",
       "      <td>19894.083984</td>\n",
       "      <td>58374.417969</td>\n",
       "      <td>23573.378906</td>\n",
       "      <td>...</td>\n",
       "      <td>94933.070313</td>\n",
       "      <td>35734.375000</td>\n",
       "      <td>93904.476563</td>\n",
       "      <td>30905.425781</td>\n",
       "      <td>105897.640625</td>\n",
       "      <td>24347.509766</td>\n",
       "      <td>147489.656250</td>\n",
       "      <td>37397.796875</td>\n",
       "      <td>27118.876953</td>\n",
       "      <td>133027.968750</td>\n",
       "    </tr>\n",
       "    <tr>\n",
       "      <th>2</th>\n",
       "      <td>51313.871094</td>\n",
       "      <td>5319.723145</td>\n",
       "      <td>58529.898438</td>\n",
       "      <td>34382.972656</td>\n",
       "      <td>53991.269531</td>\n",
       "      <td>30802.255859</td>\n",
       "      <td>47991.695313</td>\n",
       "      <td>21463.738281</td>\n",
       "      <td>58777.265625</td>\n",
       "      <td>26820.228516</td>\n",
       "      <td>...</td>\n",
       "      <td>95864.281250</td>\n",
       "      <td>36351.441406</td>\n",
       "      <td>95067.859375</td>\n",
       "      <td>31462.052734</td>\n",
       "      <td>107160.507813</td>\n",
       "      <td>24351.603516</td>\n",
       "      <td>149480.093750</td>\n",
       "      <td>38126.917969</td>\n",
       "      <td>27046.447266</td>\n",
       "      <td>132011.218750</td>\n",
       "    </tr>\n",
       "    <tr>\n",
       "      <th>3</th>\n",
       "      <td>51656.718750</td>\n",
       "      <td>5502.428711</td>\n",
       "      <td>58904.281250</td>\n",
       "      <td>34775.125000</td>\n",
       "      <td>54442.910156</td>\n",
       "      <td>31073.466797</td>\n",
       "      <td>47495.050781</td>\n",
       "      <td>22455.042969</td>\n",
       "      <td>59029.562500</td>\n",
       "      <td>28510.072266</td>\n",
       "      <td>...</td>\n",
       "      <td>96518.070313</td>\n",
       "      <td>36885.535156</td>\n",
       "      <td>95763.320313</td>\n",
       "      <td>31842.537109</td>\n",
       "      <td>107968.500000</td>\n",
       "      <td>24459.154297</td>\n",
       "      <td>150645.390625</td>\n",
       "      <td>38287.609375</td>\n",
       "      <td>26924.074219</td>\n",
       "      <td>131143.328125</td>\n",
       "    </tr>\n",
       "    <tr>\n",
       "      <th>4</th>\n",
       "      <td>51801.609375</td>\n",
       "      <td>5654.279297</td>\n",
       "      <td>59058.332031</td>\n",
       "      <td>34852.347656</td>\n",
       "      <td>54659.476563</td>\n",
       "      <td>31155.664063</td>\n",
       "      <td>47424.453125</td>\n",
       "      <td>22938.957031</td>\n",
       "      <td>59083.628906</td>\n",
       "      <td>29043.996094</td>\n",
       "      <td>...</td>\n",
       "      <td>96841.328125</td>\n",
       "      <td>37157.957031</td>\n",
       "      <td>96063.695313</td>\n",
       "      <td>31980.916016</td>\n",
       "      <td>108297.554688</td>\n",
       "      <td>24571.220703</td>\n",
       "      <td>151119.484375</td>\n",
       "      <td>38157.128906</td>\n",
       "      <td>26859.259766</td>\n",
       "      <td>130266.812500</td>\n",
       "    </tr>\n",
       "    <tr>\n",
       "      <th>5</th>\n",
       "      <td>51964.367188</td>\n",
       "      <td>5661.381836</td>\n",
       "      <td>59207.218750</td>\n",
       "      <td>34564.160156</td>\n",
       "      <td>54847.093750</td>\n",
       "      <td>31097.007813</td>\n",
       "      <td>47456.546875</td>\n",
       "      <td>23155.125000</td>\n",
       "      <td>59162.906250</td>\n",
       "      <td>29435.638672</td>\n",
       "      <td>...</td>\n",
       "      <td>97093.429688</td>\n",
       "      <td>37162.527344</td>\n",
       "      <td>96271.257813</td>\n",
       "      <td>32102.951172</td>\n",
       "      <td>108553.015625</td>\n",
       "      <td>24484.470703</td>\n",
       "      <td>151471.281250</td>\n",
       "      <td>38177.941406</td>\n",
       "      <td>26733.949219</td>\n",
       "      <td>129527.695313</td>\n",
       "    </tr>\n",
       "  </tbody>\n",
       "</table>\n",
       "<p>5 rows × 60 columns</p>\n",
       "</div>"
      ],
      "text/plain": [
       "Well                15                         16                          17  \\\n",
       "Dye Name           ROX         SYBR           ROX          SYBR           ROX   \n",
       "cycle                                                                           \n",
       "1         50718.367188  5318.887207  57887.613281  33920.878906  53284.023438   \n",
       "2         51313.871094  5319.723145  58529.898438  34382.972656  53991.269531   \n",
       "3         51656.718750  5502.428711  58904.281250  34775.125000  54442.910156   \n",
       "4         51801.609375  5654.279297  59058.332031  34852.347656  54659.476563   \n",
       "5         51964.367188  5661.381836  59207.218750  34564.160156  54847.093750   \n",
       "\n",
       "Well                              18                          19  \\\n",
       "Dye Name          SYBR           ROX          SYBR           ROX   \n",
       "cycle                                                              \n",
       "1         30377.804688  49185.601563  19894.083984  58374.417969   \n",
       "2         30802.255859  47991.695313  21463.738281  58777.265625   \n",
       "3         31073.466797  47495.050781  22455.042969  59029.562500   \n",
       "4         31155.664063  47424.453125  22938.957031  59083.628906   \n",
       "5         31097.007813  47456.546875  23155.125000  59162.906250   \n",
       "\n",
       "Well                        ...                  44                \\\n",
       "Dye Name          SYBR      ...                 ROX          SYBR   \n",
       "cycle                       ...                                     \n",
       "1         23573.378906      ...        94933.070313  35734.375000   \n",
       "2         26820.228516      ...        95864.281250  36351.441406   \n",
       "3         28510.072266      ...        96518.070313  36885.535156   \n",
       "4         29043.996094      ...        96841.328125  37157.957031   \n",
       "5         29435.638672      ...        97093.429688  37162.527344   \n",
       "\n",
       "Well                45                           46                \\\n",
       "Dye Name           ROX          SYBR            ROX          SYBR   \n",
       "cycle                                                               \n",
       "1         93904.476563  30905.425781  105897.640625  24347.509766   \n",
       "2         95067.859375  31462.052734  107160.507813  24351.603516   \n",
       "3         95763.320313  31842.537109  107968.500000  24459.154297   \n",
       "4         96063.695313  31980.916016  108297.554688  24571.220703   \n",
       "5         96271.257813  32102.951172  108553.015625  24484.470703   \n",
       "\n",
       "Well                 47                          48                 \n",
       "Dye Name            ROX          SYBR           ROX           SYBR  \n",
       "cycle                                                               \n",
       "1         147489.656250  37397.796875  27118.876953  133027.968750  \n",
       "2         149480.093750  38126.917969  27046.447266  132011.218750  \n",
       "3         150645.390625  38287.609375  26924.074219  131143.328125  \n",
       "4         151119.484375  38157.128906  26859.259766  130266.812500  \n",
       "5         151471.281250  38177.941406  26733.949219  129527.695313  \n",
       "\n",
       "[5 rows x 60 columns]"
      ]
     },
     "execution_count": 4,
     "metadata": {},
     "output_type": "execute_result"
    }
   ],
   "source": [
    "dna = pd.read_csv(filepath, index_col=[0,1])\n",
    "dna = dna.transpose()\n",
    "dna.index = [int(s.split(' ')[1]) for s in dna.index]\n",
    "dna.index.name = 'cycle'\n",
    "#dna.columns\n",
    "dna.head()"
   ]
  },
  {
   "cell_type": "markdown",
   "metadata": {},
   "source": [
    "Plotting\n",
    "---------"
   ]
  },
  {
   "cell_type": "markdown",
   "metadata": {},
   "source": [
    "Some examples of selecting data. [loc](http://pandas.pydata.org/pandas-docs/stable/indexing.html#different-choices-for-indexing-loc-iloc-and-ix) is a label-based selection method.\n",
    "\n",
    "All rows, single column."
   ]
  },
  {
   "cell_type": "code",
   "execution_count": 5,
   "metadata": {
    "collapsed": false
   },
   "outputs": [
    {
     "data": {
      "image/png": "[encoded data removed]",
      "text/plain": [
       "<matplotlib.figure.Figure at 0x10dc49710>"
      ]
     },
     "metadata": {},
     "output_type": "display_data"
    }
   ],
   "source": [
    "dna.loc[:, 15].plot()\n",
    "plt.show()"
   ]
  },
  {
   "cell_type": "markdown",
   "metadata": {},
   "source": [
    "First 5 rows, 2 columns."
   ]
  },
  {
   "cell_type": "code",
   "execution_count": 6,
   "metadata": {
    "collapsed": false
   },
   "outputs": [
    {
     "data": {
      "image/png": "[encoded data removed]",
      "text/plain": [
       "<matplotlib.figure.Figure at 0x10dc49390>"
      ]
     },
     "metadata": {},
     "output_type": "display_data"
    }
   ],
   "source": [
    "dna.loc[:5, 15:16].plot()\n",
    "plt.show()"
   ]
  },
  {
   "cell_type": "markdown",
   "metadata": {},
   "source": [
    "Single dye only."
   ]
  },
  {
   "cell_type": "code",
   "execution_count": 7,
   "metadata": {
    "collapsed": false
   },
   "outputs": [
    {
     "data": {
      "image/png": "[encoded data removed]",
      "text/plain": [
       "<matplotlib.figure.Figure at 0x10dd8f9e8>"
      ]
     },
     "metadata": {},
     "output_type": "display_data"
    },
    {
     "data": {
      "image/png": "[encoded data removed]",
      "text/plain": [
       "<matplotlib.figure.Figure at 0x10de612e8>"
      ]
     },
     "metadata": {},
     "output_type": "display_data"
    }
   ],
   "source": [
    "dna.loc[:,(15, 'SYBR')].plot()\n",
    "plt.show()\n",
    "# cross-section in columns: axis=1\n",
    "# two levels: 0 (cycle) and 1 (dye)\n",
    "dna.xs('SYBR', level=1, axis=1).loc[:,15:17].plot()\n",
    "plt.show()"
   ]
  },
  {
   "cell_type": "markdown",
   "metadata": {},
   "source": [
    "Modeling\n",
    "--------\n",
    "Automatically slice."
   ]
  },
  {
   "cell_type": "code",
   "execution_count": 8,
   "metadata": {
    "collapsed": false
   },
   "outputs": [
    {
     "data": {
      "image/png": "[encoded data removed]",
      "text/plain": [
       "<matplotlib.figure.Figure at 0x10e13e400>"
      ]
     },
     "metadata": {},
     "output_type": "display_data"
    }
   ],
   "source": [
    "#concentrations = dna.loc[:,(31, 'SYBR')][:40].values\n",
    "concentrations_raw = dna.loc[:,(31, 'SYBR')]\n",
    "concentrations_raw.plot(style='r--')\n",
    "conc_diff = concentrations_raw.diff()\n",
    "decrease_start_index = conc_diff[conc_diff<0].index[0]\n",
    "concentrations_series = concentrations_raw[: decrease_start_index - 1]\n",
    "concentrations_series.plot(style='r-')\n",
    "concentrations = concentrations_series.values"
   ]
  },
  {
   "cell_type": "code",
   "execution_count": 9,
   "metadata": {
    "collapsed": false
   },
   "outputs": [
    {
     "data": {
      "image/png": "[encoded data removed]",
      "text/plain": [
       "<matplotlib.figure.Figure at 0x10cd91780>"
      ]
     },
     "metadata": {},
     "output_type": "display_data"
    }
   ],
   "source": [
    "concentrations_series.plot()\n",
    "plt.show()"
   ]
  },
  {
   "cell_type": "markdown",
   "metadata": {},
   "source": [
    "### Older model"
   ]
  },
  {
   "cell_type": "markdown",
   "metadata": {},
   "source": [
    "Fit the model."
   ]
  },
  {
   "cell_type": "code",
   "execution_count": 10,
   "metadata": {
    "collapsed": false
   },
   "outputs": [
    {
     "name": "stdout",
     "output_type": "stream",
     "text": [
      "[  2.49657656e+05   3.41212406e+05   1.01000000e+00   3.41222406e+05\n",
      "   3.00000000e+00]\n",
      "[  4.82588558e+04   2.19956974e+01   5.50689842e-01   3.51287979e+05\n",
      "   1.68330183e+00]\n"
     ]
    }
   ],
   "source": [
    "import numpy as np\n",
    "import math\n",
    "from scipy.optimize import curve_fit\n",
    "import ipdb\n",
    "\n",
    "k = 1\n",
    "n = 5\n",
    "nx = 1\n",
    "nc = 5\n",
    "mode = 0\n",
    "maxit = 100000\n",
    "iprt = 0\n",
    "\n",
    "# input_file_name = 'inp.txt'\n",
    "\n",
    "# concentrations = np.loadtxt(input_file_name)\n",
    "\n",
    "# offset\n",
    "offset = np.mean(concentrations[5:8])\n",
    "\n",
    "# expression\n",
    "last_reading = concentrations[-1]\n",
    "index = np.where((concentrations - offset) > 0.1 * last_reading)[0][0]\n",
    "expression = ((concentrations[index] - offset) /\n",
    "              math.exp(math.log(2.0)*index*1.0))\n",
    "\n",
    "# rate\n",
    "rate = 1.0\n",
    "\n",
    "# reactants\n",
    "reactants = last_reading/2.0\n",
    "\n",
    "# power\n",
    "power = 1.0\n",
    "\n",
    "sy = concentrations.copy()\n",
    "for i, elm in enumerate(concentrations):\n",
    "    if (elm > 1.5 * offset) and (elm < 0.5 * last_reading):\n",
    "        sy[i] = 0.5\n",
    "    elif (i < index - 10):\n",
    "        sy[i] = 2.5\n",
    "    elif (elm > last_reading/1.5):\n",
    "        sy[i] = 1.2\n",
    "\n",
    "# bounds\n",
    "al = 0.0\n",
    "variables = np.array([5*offset, last_reading, 1.01, last_reading + 10.0, 3.0])\n",
    "print(variables)\n",
    "\n",
    "def f(meas, offset, n0, gama, nn, alfa):\n",
    "    meas_calc = np.zeros(len(meas))\n",
    "    for i in meas:\n",
    "        # ipdb.set_trace()\n",
    "        broj = np.zeros(i)\n",
    "        if n0 < 0 or nn < 0:\n",
    "            return np.repeat(1e10, len(meas))\n",
    "        broj[0] = n0\n",
    "        suma = n0\n",
    "        for idx in range(1, i):\n",
    "            broj[idx] = broj[idx - 1] * (1.0 + gama /\n",
    "                                         (1.0 +\n",
    "                                          math.exp(alfa * math.log(suma / nn))))\n",
    "            suma = suma + broj[idx]\n",
    "\n",
    "        meas_calc[i - 1] = broj[-1] + offset\n",
    "    return meas_calc\n",
    "\n",
    "times = list(range(1, len(concentrations) + 1))\n",
    "fitted_params = curve_fit(f, times, concentrations, p0=variables)\n",
    "params = fitted_params[0]\n",
    "print(params)"
   ]
  },
  {
   "cell_type": "code",
   "execution_count": 11,
   "metadata": {
    "collapsed": false
   },
   "outputs": [
    {
     "data": {
      "text/plain": [
       "array([  46291.660156,   47628.90625 ,   48538.496094,   49069.910156,\n",
       "         49409.421875,   49651.507813,   49918.171875,   50224.914063,\n",
       "         50366.925781,   50520.902344,   50773.109375,   51177.683594,\n",
       "         51961.804688,   53454.484375,   56117.375   ,   60834.640625,\n",
       "         69399.929688,   83715.734375,  104588.578125,  130064.46875 ,\n",
       "        157435.71875 ,  184299.59375 ,  209869.171875,  233132.03125 ,\n",
       "        253379.796875,  270186.34375 ,  283986.75    ,  295564.625   ,\n",
       "        305173.65625 ,  312926.59375 ,  319316.8125  ,  324381.90625 ,\n",
       "        328349.5     ,  331837.25    ,  334953.1875  ,  337200.78125 ,\n",
       "        338646.375   ,  339733.9375  ,  340569.21875 ,  341212.40625 ])"
      ]
     },
     "execution_count": 11,
     "metadata": {},
     "output_type": "execute_result"
    }
   ],
   "source": [
    "concentrations"
   ]
  },
  {
   "cell_type": "code",
   "execution_count": 12,
   "metadata": {
    "collapsed": false
   },
   "outputs": [
    {
     "data": {
      "text/plain": [
       "array([ 1989.19132887,   664.05804097,  -226.74860425,  -729.0357793 ,\n",
       "       -1023.38083874, -1195.42768078, -1353.48414554, -1491.81406017,\n",
       "       -1372.68524834, -1121.7621101 ,  -746.25324759,  -177.94991851,\n",
       "         544.88538075,  1383.59836774,  2318.45679674,  3124.13418795,\n",
       "        2946.81120648,  1100.78931409, -1972.34424953, -3773.8524297 ,\n",
       "       -2820.79128873,   132.74733638,  2430.04731956,  3104.8976848 ,\n",
       "        2504.63009253,  1553.72804806,   545.98305598,  -626.87109113,\n",
       "       -1674.64196474, -2294.69483395, -2668.71605155, -2600.75699534,\n",
       "       -2142.34881109, -1777.05058493, -1509.60833716,  -762.9959074 ,\n",
       "         459.90727025,  1765.72836868,  3089.47998486,  4404.13987871])"
      ]
     },
     "execution_count": 12,
     "metadata": {},
     "output_type": "execute_result"
    }
   ],
   "source": [
    "f(times, *params) - concentrations"
   ]
  },
  {
   "cell_type": "markdown",
   "metadata": {},
   "source": [
    "Plot the model."
   ]
  },
  {
   "cell_type": "code",
   "execution_count": 13,
   "metadata": {
    "collapsed": false
   },
   "outputs": [
    {
     "data": {
      "image/png": "[encoded data removed]",
      "text/plain": [
       "<matplotlib.figure.Figure at 0x10dddec18>"
      ]
     },
     "metadata": {},
     "output_type": "display_data"
    }
   ],
   "source": [
    "fitted_vals = f(times, *params)\n",
    "\n",
    "plt.plot(times, concentrations, 'k-', label='measurements')\n",
    "plt.plot(times, fitted_vals, 'r--', label='model')\n",
    "plt.legend(loc='upper left')\n",
    "plt.show()"
   ]
  },
  {
   "cell_type": "markdown",
   "metadata": {},
   "source": [
    "### Newer model\n",
    "\n",
    "Add the qPRC package to the system path, so that we can include the module from there."
   ]
  },
  {
   "cell_type": "code",
   "execution_count": 14,
   "metadata": {
    "collapsed": false
   },
   "outputs": [
    {
     "name": "stdout",
     "output_type": "stream",
     "text": [
      "/Users/kermit/projekti/git/qprc\n"
     ]
    },
    {
     "data": {
      "text/plain": [
       "['',\n",
       " '/Users/kermit/.virtualenvs/s3/lib/python35.zip',\n",
       " '/Users/kermit/.virtualenvs/s3/lib/python3.5',\n",
       " '/Users/kermit/.virtualenvs/s3/lib/python3.5/plat-darwin',\n",
       " '/Users/kermit/.virtualenvs/s3/lib/python3.5/lib-dynload',\n",
       " '/usr/local/Cellar/python3/3.5.0/Frameworks/Python.framework/Versions/3.5/lib/python3.5',\n",
       " '/usr/local/Cellar/python3/3.5.0/Frameworks/Python.framework/Versions/3.5/lib/python3.5/plat-darwin',\n",
       " '/Users/kermit/.virtualenvs/s3/lib/python3.5/site-packages',\n",
       " '/usr/local/Cellar/python3/3.5.0/Frameworks/Python.framework/Versions/3.5/lib/python3.5/site-packages',\n",
       " '/Users/kermit/.virtualenvs/s3/lib/python3.5/site-packages/IPython/extensions',\n",
       " '/Users/kermit/.ipython',\n",
       " '/Users/kermit/projekti/git/qprc']"
      ]
     },
     "execution_count": 14,
     "metadata": {},
     "output_type": "execute_result"
    }
   ],
   "source": [
    "import sys\n",
    "qprc_path = os.path.abspath(os.path.join('..'))\n",
    "print(qprc_path)\n",
    "if qprc_path not in sys.path:\n",
    "    sys.path.append(qprc_path)\n",
    "sys.path"
   ]
  },
  {
   "cell_type": "code",
   "execution_count": 15,
   "metadata": {
    "collapsed": false
   },
   "outputs": [
    {
     "data": {
      "text/plain": [
       "array([  2.49657656e+05,   3.41212406e+05,   1.01000000e+00,\n",
       "         3.41222406e+05,   3.00000000e+00])"
      ]
     },
     "execution_count": 15,
     "metadata": {},
     "output_type": "execute_result"
    }
   ],
   "source": [
    "variables"
   ]
  },
  {
   "cell_type": "code",
   "execution_count": 16,
   "metadata": {
    "collapsed": false
   },
   "outputs": [
    {
     "name": "stdout",
     "output_type": "stream",
     "text": [
      "[  4.85642748e+04   8.73408643e+00   6.49551324e-01   3.38866798e+05\n",
      "   9.35599025e-01]\n"
     ]
    },
    {
     "data": {
      "image/png": "[encoded data removed]",
      "text/plain": [
       "<matplotlib.figure.Figure at 0x10e270160>"
      ]
     },
     "metadata": {},
     "output_type": "display_data"
    }
   ],
   "source": [
    "from qPRC.lib.fitter import f\n",
    "\n",
    "# older model function – check ../qPRC/lib/fitter.py (imported above) for the newest version\n",
    "# def f(meas, offset, n0, gama, nn, alfa):\n",
    "#     meas_calc = np.zeros(len(meas))\n",
    "#     for i in meas:\n",
    "#         num = np.zeros(i)\n",
    "#         prim = np.zeros(i)\n",
    "#         if n0 < 0 or nn < 0:\n",
    "#             return np.repeat(1e10, len(meas))\n",
    "#         num[0] = n0\n",
    "#         summ = n0\n",
    "#         prim[0] = nn\n",
    "#         for idx in range(1, i):\n",
    "#             num[idx] = num[idx - 1] * (\n",
    "#                 1.0 + gama / (1.0 + alfa * (summ / prim[idx - 1]))\n",
    "#             )\n",
    "#             summ = summ + num[idx]\n",
    "#             prim[idx] = prim[idx - 1] - (num[idx] - num[idx - 1])\n",
    "\n",
    "#         meas_calc[i - 1] = num[-1] + offset\n",
    "#     return meas_calc\n",
    "\n",
    "# obtained by randomly tweaking the output params and passing them into the curve_fit again\n",
    "good_variables = [1.76050783e+05, 5.78e+02, +1.13766225e+00, 7.42308865e+05, 8.11068606e+00]\n",
    "times = list(range(1, len(concentrations) + 1))\n",
    "fitted_params = curve_fit(f, times, concentrations, p0=good_variables)\n",
    "params = fitted_params[0]\n",
    "print(params)\n",
    "\n",
    "fitted_vals = f(times, *params)\n",
    "\n",
    "plt.plot(times, concentrations, 'k-', label='measurements')\n",
    "plt.plot(times, fitted_vals, 'r--', label='model')\n",
    "plt.legend(loc='upper left')\n",
    "plt.show()"
   ]
  }
 ],
 "metadata": {
  "kernelspec": {
   "display_name": "Python 3",
   "language": "python",
   "name": "python3"
  },
  "language_info": {
   "codemirror_mode": {
    "name": "ipython",
    "version": 3
   },
   "file_extension": ".py",
   "mimetype": "text/x-python",
   "name": "python",
   "nbconvert_exporter": "python",
   "pygments_lexer": "ipython3",
   "version": "3.5.0"
  }
 },
 "nbformat": 4,
 "nbformat_minor": 0
}
